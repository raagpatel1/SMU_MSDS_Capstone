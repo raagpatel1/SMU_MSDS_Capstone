{
 "cells": [
  {
   "cell_type": "markdown",
   "metadata": {},
   "source": [
    "# Libraries"
   ]
  },
  {
   "cell_type": "code",
   "execution_count": 2,
   "metadata": {},
   "outputs": [],
   "source": [
    "import pandas as pd\n",
    "import os\n",
    "import requests\n",
    "import time\n",
    "from tqdm import tqdm "
   ]
  },
  {
   "cell_type": "code",
   "execution_count": 3,
   "metadata": {},
   "outputs": [],
   "source": [
    "folder_path = 'D:\\School\\GitHub\\SMU_MSDS_Capstone\\Data'"
   ]
  },
  {
   "cell_type": "markdown",
   "metadata": {},
   "source": [
    "# Combining DF's that we have"
   ]
  },
  {
   "cell_type": "code",
   "execution_count": 4,
   "metadata": {},
   "outputs": [],
   "source": [
    "# Get a list of all the CSV files in that folder\n",
    "all_files = [f for f in os.listdir(folder_path) if os.path.isfile(os.path.join(folder_path, f)) and f.endswith('.csv')]\n",
    "\n",
    "# Initialize an empty list to hold the dataframes\n",
    "list_of_dfs = []\n",
    "\n",
    "# Loop through each CSV file and read it into a DataFrame, then append to the list\n",
    "for file in all_files:\n",
    "    file_path = os.path.join(folder_path, file)\n",
    "    with open(file_path, 'r', encoding='utf-8', errors='ignore') as f:\n",
    "        df = pd.read_csv(f)\n",
    "    list_of_dfs.append(df)\n",
    "\n",
    "# Concatenate all the dataframes together\n",
    "combined_df = pd.concat(list_of_dfs, ignore_index=True)"
   ]
  },
  {
   "cell_type": "code",
   "execution_count": 5,
   "metadata": {},
   "outputs": [
    {
     "name": "stdout",
     "output_type": "stream",
     "text": [
      "  FirstName LastName  Order      PMID                         DOI Journal  \\\n",
      "0     Sarah   Melzer    1.0  34610277  10.1016/j.cell.2021.09.013    Cell   \n",
      "1     Elena  Newmark    2.0  34610277  10.1016/j.cell.2021.09.013    Cell   \n",
      "2     Grace   Mizuno    3.0  34610277  10.1016/j.cell.2021.09.013    Cell   \n",
      "3    Minsuk     Hyun    4.0  34610277  10.1016/j.cell.2021.09.013    Cell   \n",
      "4  Adrienne  Philson    5.0  34610277  10.1016/j.cell.2021.09.013    Cell   \n",
      "\n",
      "     Field  CitationCount Gender Date.Received  ... year_max index  \\\n",
      "0  Biology            4.0      F     23-Oct-20  ...      NaN   NaN   \n",
      "1  Biology            4.0      F     23-Oct-20  ...      NaN   NaN   \n",
      "2  Biology            4.0      F     23-Oct-20  ...      NaN   NaN   \n",
      "3  Biology            4.0      M     23-Oct-20  ...      NaN   NaN   \n",
      "4  Biology            4.0      F     23-Oct-20  ...      NaN   NaN   \n",
      "\n",
      "  CollectiveName  Initials order TitleSem Abstract Month  Day Jabbrev  \n",
      "0            NaN       NaN   NaN      NaN      NaN   NaN  NaN     NaN  \n",
      "1            NaN       NaN   NaN      NaN      NaN   NaN  NaN     NaN  \n",
      "2            NaN       NaN   NaN      NaN      NaN   NaN  NaN     NaN  \n",
      "3            NaN       NaN   NaN      NaN      NaN   NaN  NaN     NaN  \n",
      "4            NaN       NaN   NaN      NaN      NaN   NaN  NaN     NaN  \n",
      "\n",
      "[5 rows x 39 columns]\n"
     ]
    }
   ],
   "source": [
    "print(combined_df.head()) # Just print the first few rows as a check"
   ]
  },
  {
   "cell_type": "code",
   "execution_count": 6,
   "metadata": {},
   "outputs": [],
   "source": [
    "# After combining all your DataFrames into combined_df...\n",
    "output_file_path = 'D:\\School\\GitHub\\SMU_MSDS_Capstone\\Output1.csv'\n",
    "combined_df.to_csv(output_file_path, index=False)"
   ]
  },
  {
   "cell_type": "markdown",
   "metadata": {},
   "source": [
    "# Compiling a list of DOI's to grab information for"
   ]
  },
  {
   "cell_type": "code",
   "execution_count": 7,
   "metadata": {},
   "outputs": [],
   "source": [
    "doi_list = combined_df['DOI'].unique().tolist()\n",
    "doi_df = pd.DataFrame(doi_list, columns=['DOI'])"
   ]
  },
  {
   "cell_type": "code",
   "execution_count": 8,
   "metadata": {},
   "outputs": [
    {
     "name": "stderr",
     "output_type": "stream",
     "text": [
      "Fetching DOIs:  33%|███▎      | 77/233 [01:09<02:20,  1.11it/s]\n"
     ]
    }
   ],
   "source": [
    "# Step 1: Query Crossref for a broad set of results (you can refine this as needed)\n",
    "URL = \"https://api.crossref.org/works?rows=1000\"\n",
    "response = requests.get(URL)\n",
    "data = response.json()\n",
    "\n",
    "# Extract subjects from the returned works and add to a set for uniqueness\n",
    "subjects_set = set()\n",
    "for item in data['message']['items']:\n",
    "    if 'subject' in item:\n",
    "        subjects_set.update(item['subject'])\n",
    "\n",
    "# Convert the set to a list\n",
    "subjects_list = list(subjects_set)\n",
    "\n",
    "# Initialize a list to store all the fetched DOIs\n",
    "all_dois = []\n",
    "\n",
    "# Initialize tqdm for the progress bar\n",
    "pbar = tqdm(total=len(subjects_list), desc=\"Fetching DOIs\")\n",
    "\n",
    "# Step 2: Iterate through each subject title and fetch 100 unique DOIs\n",
    "for subject_name in subjects_list:\n",
    "    doi_url = f\"https://api.crossref.org/works?query=subject:{subject_name}&rows=100\"\n",
    "    response = requests.get(doi_url)\n",
    "    data = response.json()\n",
    "    subject_dois = data.get('message', {}).get('items', [])\n",
    "    \n",
    "    # Add the fetched DOIs to the all_dois list\n",
    "    all_dois.extend(subject_dois)\n",
    "    \n",
    "    # Update the progress bar\n",
    "    pbar.update(1)\n",
    "    \n",
    "    # Break the loop if we have fetched 25 unique DOIs for each subject\n",
    "    if len(all_dois) >= 25 * len(subjects_list):\n",
    "        break\n",
    "\n",
    "# Close the progress bar\n",
    "pbar.close()\n",
    "\n",
    "temp_doi_df = pd.DataFrame(all_dois, columns=['DOI'])\n",
    "doi_df = pd.concat([doi_df, temp_doi_df], ignore_index=True)"
   ]
  },
  {
   "cell_type": "code",
   "execution_count": 9,
   "metadata": {},
   "outputs": [],
   "source": [
    "doi_df.drop_duplicates(inplace=True)\n",
    "doi_df.reset_index(drop=True, inplace=True)"
   ]
  },
  {
   "cell_type": "code",
   "execution_count": 10,
   "metadata": {},
   "outputs": [
    {
     "name": "stdout",
     "output_type": "stream",
     "text": [
      "<bound method NDFrame.describe of                                       DOI\n",
      "0              10.1016/j.cell.2021.09.013\n",
      "1              10.1016/j.cell.2021.09.018\n",
      "2              10.1016/j.cell.2021.09.021\n",
      "3              10.1016/j.cell.2021.09.022\n",
      "4              10.1016/j.cell.2021.09.023\n",
      "...                                   ...\n",
      "5856           10.1057/9781137375469.0013\n",
      "5857           10.1891/9780826125453.0005\n",
      "5858           10.52419/3006-2023-4-1-159\n",
      "5859  10.3828/dap.2021.2021.issue-january\n",
      "5860    10.3828/dap.2021.2021.issue-march\n",
      "\n",
      "[5861 rows x 1 columns]>\n"
     ]
    }
   ],
   "source": [
    "print(doi_df.describe)"
   ]
  },
  {
   "cell_type": "markdown",
   "metadata": {},
   "source": [
    "# Pulling Info From The DOI's"
   ]
  },
  {
   "cell_type": "code",
   "execution_count": 11,
   "metadata": {},
   "outputs": [
    {
     "name": "stderr",
     "output_type": "stream",
     "text": [
      "Fetching details:   8%|▊         | 483/5861 [01:51<21:23,  4.19it/s]"
     ]
    },
    {
     "name": "stdout",
     "output_type": "stream",
     "text": [
      "Error fetching DOI 10.1038/s41567-019-0765-5: 404 Client Error: Not Found for url: https://api.crossref.org/works/10.1038/s41567-019-0765-5\n",
      "Error fetching DOI 10.1038/s41567-019-0765-6: 404 Client Error: Not Found for url: https://api.crossref.org/works/10.1038/s41567-019-0765-6\n"
     ]
    },
    {
     "name": "stderr",
     "output_type": "stream",
     "text": [
      "Fetching details:   8%|▊         | 485/5861 [01:52<20:00,  4.48it/s]"
     ]
    },
    {
     "name": "stdout",
     "output_type": "stream",
     "text": [
      "Error fetching DOI 10.1038/s41567-019-0765-7: 404 Client Error: Not Found for url: https://api.crossref.org/works/10.1038/s41567-019-0765-7\n",
      "Error fetching DOI 10.1038/s41567-019-0765-8: 404 Client Error: Not Found for url: https://api.crossref.org/works/10.1038/s41567-019-0765-8\n"
     ]
    },
    {
     "name": "stderr",
     "output_type": "stream",
     "text": [
      "Fetching details:   8%|▊         | 487/5861 [01:52<22:09,  4.04it/s]"
     ]
    },
    {
     "name": "stdout",
     "output_type": "stream",
     "text": [
      "Error fetching DOI 10.1038/s41567-019-0765-9: 404 Client Error: Not Found for url: https://api.crossref.org/works/10.1038/s41567-019-0765-9\n"
     ]
    },
    {
     "name": "stderr",
     "output_type": "stream",
     "text": [
      "Fetching details:   8%|▊         | 488/5861 [01:52<21:38,  4.14it/s]"
     ]
    },
    {
     "name": "stdout",
     "output_type": "stream",
     "text": [
      "Error fetching DOI 10.1038/s41567-019-0765-10: 404 Client Error: Not Found for url: https://api.crossref.org/works/10.1038/s41567-019-0765-10\n"
     ]
    },
    {
     "name": "stderr",
     "output_type": "stream",
     "text": [
      "Fetching details:   8%|▊         | 489/5861 [01:52<21:16,  4.21it/s]"
     ]
    },
    {
     "name": "stdout",
     "output_type": "stream",
     "text": [
      "Error fetching DOI 10.1038/s41567-019-0765-11: 404 Client Error: Not Found for url: https://api.crossref.org/works/10.1038/s41567-019-0765-11\n"
     ]
    },
    {
     "name": "stderr",
     "output_type": "stream",
     "text": [
      "Fetching details:   8%|▊         | 490/5861 [01:53<20:44,  4.31it/s]"
     ]
    },
    {
     "name": "stdout",
     "output_type": "stream",
     "text": [
      "Error fetching DOI 10.1038/s41567-020-0894-9.: 404 Client Error: Not Found for url: https://api.crossref.org/works/10.1038/s41567-020-0894-9.\n"
     ]
    },
    {
     "name": "stderr",
     "output_type": "stream",
     "text": [
      "Fetching details:   9%|▊         | 510/5861 [01:57<22:33,  3.95it/s]"
     ]
    },
    {
     "name": "stdout",
     "output_type": "stream",
     "text": [
      "Error fetching DOI 10.1088/1361-6633/ac2c92: 404 Client Error: Not Found for url: https://api.crossref.org/works/10.1088/1361-6633/ac2c92\n"
     ]
    },
    {
     "name": "stderr",
     "output_type": "stream",
     "text": [
      "Fetching details:  10%|▉         | 575/5861 [02:13<21:57,  4.01it/s]"
     ]
    },
    {
     "name": "stdout",
     "output_type": "stream",
     "text": [
      "Unexpected structure in response for DOI 10.1002/csc2.v59.3: list index out of range\n",
      "Unexpected structure in response for DOI 10.1002/csc2.v40.4: list index out of range\n"
     ]
    },
    {
     "name": "stderr",
     "output_type": "stream",
     "text": [
      "Fetching details:  10%|▉         | 577/5861 [02:14<20:12,  4.36it/s]"
     ]
    },
    {
     "name": "stdout",
     "output_type": "stream",
     "text": [
      "Unexpected structure in response for DOI 10.1002/csc2.v58.3: list index out of range\n"
     ]
    },
    {
     "name": "stderr",
     "output_type": "stream",
     "text": [
      "Fetching details:  10%|▉         | 578/5861 [02:14<19:38,  4.48it/s]"
     ]
    },
    {
     "name": "stdout",
     "output_type": "stream",
     "text": [
      "Unexpected structure in response for DOI 10.1002/csc2.v56.1: list index out of range\n"
     ]
    },
    {
     "name": "stderr",
     "output_type": "stream",
     "text": [
      "Fetching details:  10%|▉         | 579/5861 [02:14<19:55,  4.42it/s]"
     ]
    },
    {
     "name": "stdout",
     "output_type": "stream",
     "text": [
      "Unexpected structure in response for DOI 10.1002/csc2.v58.4: list index out of range\n"
     ]
    },
    {
     "name": "stderr",
     "output_type": "stream",
     "text": [
      "Fetching details:  10%|▉         | 583/5861 [02:15<19:14,  4.57it/s]"
     ]
    },
    {
     "name": "stdout",
     "output_type": "stream",
     "text": [
      "Unexpected structure in response for DOI 10.1002/csc2.v53.5: list index out of range\n"
     ]
    },
    {
     "name": "stderr",
     "output_type": "stream",
     "text": [
      "Fetching details:  10%|▉         | 584/5861 [02:15<18:59,  4.63it/s]"
     ]
    },
    {
     "name": "stdout",
     "output_type": "stream",
     "text": [
      "Unexpected structure in response for DOI 10.1002/csc2.v59.2: list index out of range\n"
     ]
    },
    {
     "name": "stderr",
     "output_type": "stream",
     "text": [
      "Fetching details:  10%|▉         | 585/5861 [02:15<18:38,  4.72it/s]"
     ]
    },
    {
     "name": "stdout",
     "output_type": "stream",
     "text": [
      "Unexpected structure in response for DOI 10.1002/csc2.v55.1: list index out of range\n"
     ]
    },
    {
     "name": "stderr",
     "output_type": "stream",
     "text": [
      "Fetching details:  10%|▉         | 586/5861 [02:15<18:46,  4.68it/s]"
     ]
    },
    {
     "name": "stdout",
     "output_type": "stream",
     "text": [
      "Unexpected structure in response for DOI 10.1002/csc2.v55.6: list index out of range\n"
     ]
    },
    {
     "name": "stderr",
     "output_type": "stream",
     "text": [
      "Fetching details:  10%|█         | 587/5861 [02:16<19:36,  4.48it/s]"
     ]
    },
    {
     "name": "stdout",
     "output_type": "stream",
     "text": [
      "Unexpected structure in response for DOI 10.1002/csc2.v52.2: list index out of range\n"
     ]
    },
    {
     "name": "stderr",
     "output_type": "stream",
     "text": [
      "Fetching details:  10%|█         | 588/5861 [02:16<19:36,  4.48it/s]"
     ]
    },
    {
     "name": "stdout",
     "output_type": "stream",
     "text": [
      "Unexpected structure in response for DOI 10.1002/csc2.v48.2: list index out of range\n"
     ]
    },
    {
     "name": "stderr",
     "output_type": "stream",
     "text": [
      "Fetching details:  10%|█         | 589/5861 [02:16<19:33,  4.49it/s]"
     ]
    },
    {
     "name": "stdout",
     "output_type": "stream",
     "text": [
      "Unexpected structure in response for DOI 10.1002/csc2.v56.5: list index out of range\n"
     ]
    },
    {
     "name": "stderr",
     "output_type": "stream",
     "text": [
      "Fetching details:  10%|█         | 592/5861 [02:17<19:47,  4.44it/s]"
     ]
    },
    {
     "name": "stdout",
     "output_type": "stream",
     "text": [
      "Unexpected structure in response for DOI 10.1002/csc2.v57.5: list index out of range\n"
     ]
    },
    {
     "name": "stderr",
     "output_type": "stream",
     "text": [
      "Fetching details:  10%|█         | 593/5861 [02:17<22:37,  3.88it/s]"
     ]
    },
    {
     "name": "stdout",
     "output_type": "stream",
     "text": [
      "Unexpected structure in response for DOI 10.1002/csc2.v55.4: list index out of range\n"
     ]
    },
    {
     "name": "stderr",
     "output_type": "stream",
     "text": [
      "Fetching details:  10%|█         | 594/5861 [02:17<24:40,  3.56it/s]"
     ]
    },
    {
     "name": "stdout",
     "output_type": "stream",
     "text": [
      "Unexpected structure in response for DOI 10.1002/csc2.v57.6: list index out of range\n"
     ]
    },
    {
     "name": "stderr",
     "output_type": "stream",
     "text": [
      "Fetching details:  10%|█         | 598/5861 [02:18<20:58,  4.18it/s]"
     ]
    },
    {
     "name": "stdout",
     "output_type": "stream",
     "text": [
      "Unexpected structure in response for DOI 10.1002/csc2.v54.2: list index out of range\n",
      "Unexpected structure in response for DOI 10.1002/csc2.v48.4: list index out of range\n"
     ]
    },
    {
     "name": "stderr",
     "output_type": "stream",
     "text": [
      "Fetching details:  10%|█         | 600/5861 [02:19<19:57,  4.39it/s]"
     ]
    },
    {
     "name": "stdout",
     "output_type": "stream",
     "text": [
      "Unexpected structure in response for DOI 10.1002/csc2.v54.4: list index out of range\n"
     ]
    },
    {
     "name": "stderr",
     "output_type": "stream",
     "text": [
      "Fetching details:  10%|█         | 601/5861 [02:19<20:22,  4.30it/s]"
     ]
    },
    {
     "name": "stdout",
     "output_type": "stream",
     "text": [
      "Unexpected structure in response for DOI 10.1002/csc2.v53.3: list index out of range\n"
     ]
    },
    {
     "name": "stderr",
     "output_type": "stream",
     "text": [
      "\n"
     ]
    },
    {
     "ename": "KeyboardInterrupt",
     "evalue": "",
     "output_type": "error",
     "traceback": [
      "\u001b[1;31m---------------------------------------------------------------------------\u001b[0m",
      "\u001b[1;31mKeyboardInterrupt\u001b[0m                         Traceback (most recent call last)",
      "Cell \u001b[1;32mIn[11], line 72\u001b[0m\n\u001b[0;32m     70\u001b[0m \u001b[39mfor\u001b[39;00m idx, row \u001b[39min\u001b[39;00m tqdm(doi_df\u001b[39m.\u001b[39miterrows(), total\u001b[39m=\u001b[39m\u001b[39mlen\u001b[39m(doi_df), desc\u001b[39m=\u001b[39m\u001b[39m\"\u001b[39m\u001b[39mFetching details\u001b[39m\u001b[39m\"\u001b[39m):\n\u001b[0;32m     71\u001b[0m     \u001b[39mif\u001b[39;00m pd\u001b[39m.\u001b[39mnotna(row[\u001b[39m'\u001b[39m\u001b[39mDOI\u001b[39m\u001b[39m'\u001b[39m]):  \n\u001b[1;32m---> 72\u001b[0m         details \u001b[39m=\u001b[39m fetch_details(row[\u001b[39m'\u001b[39;49m\u001b[39mDOI\u001b[39;49m\u001b[39m'\u001b[39;49m], doi_cache)\n\u001b[0;32m     73\u001b[0m         data_list\u001b[39m.\u001b[39mextend(details)  \u001b[39m# Since details is now a list of dictionaries\u001b[39;00m\n\u001b[0;32m     75\u001b[0m \u001b[39m# Convert list of dictionaries to DataFrame\u001b[39;00m\n",
      "Cell \u001b[1;32mIn[11], line 9\u001b[0m, in \u001b[0;36mfetch_details\u001b[1;34m(doi, cache)\u001b[0m\n\u001b[0;32m      7\u001b[0m url \u001b[39m=\u001b[39m \u001b[39mf\u001b[39m\u001b[39m\"\u001b[39m\u001b[39mhttps://api.crossref.org/works/\u001b[39m\u001b[39m{\u001b[39;00mdoi\u001b[39m}\u001b[39;00m\u001b[39m\"\u001b[39m\n\u001b[0;32m      8\u001b[0m \u001b[39mtry\u001b[39;00m:\n\u001b[1;32m----> 9\u001b[0m     response \u001b[39m=\u001b[39m requests\u001b[39m.\u001b[39;49mget(url)\n\u001b[0;32m     10\u001b[0m     response\u001b[39m.\u001b[39mraise_for_status() \n\u001b[0;32m     11\u001b[0m     data \u001b[39m=\u001b[39m response\u001b[39m.\u001b[39mjson()\n",
      "File \u001b[1;32mc:\\Users\\raag7\\AppData\\Local\\Programs\\Python\\Python311\\Lib\\site-packages\\requests\\api.py:73\u001b[0m, in \u001b[0;36mget\u001b[1;34m(url, params, **kwargs)\u001b[0m\n\u001b[0;32m     62\u001b[0m \u001b[39mdef\u001b[39;00m \u001b[39mget\u001b[39m(url, params\u001b[39m=\u001b[39m\u001b[39mNone\u001b[39;00m, \u001b[39m*\u001b[39m\u001b[39m*\u001b[39mkwargs):\n\u001b[0;32m     63\u001b[0m \u001b[39m    \u001b[39m\u001b[39mr\u001b[39m\u001b[39m\"\"\"Sends a GET request.\u001b[39;00m\n\u001b[0;32m     64\u001b[0m \n\u001b[0;32m     65\u001b[0m \u001b[39m    :param url: URL for the new :class:`Request` object.\u001b[39;00m\n\u001b[1;32m   (...)\u001b[0m\n\u001b[0;32m     70\u001b[0m \u001b[39m    :rtype: requests.Response\u001b[39;00m\n\u001b[0;32m     71\u001b[0m \u001b[39m    \"\"\"\u001b[39;00m\n\u001b[1;32m---> 73\u001b[0m     \u001b[39mreturn\u001b[39;00m request(\u001b[39m\"\u001b[39;49m\u001b[39mget\u001b[39;49m\u001b[39m\"\u001b[39;49m, url, params\u001b[39m=\u001b[39;49mparams, \u001b[39m*\u001b[39;49m\u001b[39m*\u001b[39;49mkwargs)\n",
      "File \u001b[1;32mc:\\Users\\raag7\\AppData\\Local\\Programs\\Python\\Python311\\Lib\\site-packages\\requests\\api.py:59\u001b[0m, in \u001b[0;36mrequest\u001b[1;34m(method, url, **kwargs)\u001b[0m\n\u001b[0;32m     55\u001b[0m \u001b[39m# By using the 'with' statement we are sure the session is closed, thus we\u001b[39;00m\n\u001b[0;32m     56\u001b[0m \u001b[39m# avoid leaving sockets open which can trigger a ResourceWarning in some\u001b[39;00m\n\u001b[0;32m     57\u001b[0m \u001b[39m# cases, and look like a memory leak in others.\u001b[39;00m\n\u001b[0;32m     58\u001b[0m \u001b[39mwith\u001b[39;00m sessions\u001b[39m.\u001b[39mSession() \u001b[39mas\u001b[39;00m session:\n\u001b[1;32m---> 59\u001b[0m     \u001b[39mreturn\u001b[39;00m session\u001b[39m.\u001b[39;49mrequest(method\u001b[39m=\u001b[39;49mmethod, url\u001b[39m=\u001b[39;49murl, \u001b[39m*\u001b[39;49m\u001b[39m*\u001b[39;49mkwargs)\n",
      "File \u001b[1;32mc:\\Users\\raag7\\AppData\\Local\\Programs\\Python\\Python311\\Lib\\site-packages\\requests\\sessions.py:589\u001b[0m, in \u001b[0;36mSession.request\u001b[1;34m(self, method, url, params, data, headers, cookies, files, auth, timeout, allow_redirects, proxies, hooks, stream, verify, cert, json)\u001b[0m\n\u001b[0;32m    584\u001b[0m send_kwargs \u001b[39m=\u001b[39m {\n\u001b[0;32m    585\u001b[0m     \u001b[39m\"\u001b[39m\u001b[39mtimeout\u001b[39m\u001b[39m\"\u001b[39m: timeout,\n\u001b[0;32m    586\u001b[0m     \u001b[39m\"\u001b[39m\u001b[39mallow_redirects\u001b[39m\u001b[39m\"\u001b[39m: allow_redirects,\n\u001b[0;32m    587\u001b[0m }\n\u001b[0;32m    588\u001b[0m send_kwargs\u001b[39m.\u001b[39mupdate(settings)\n\u001b[1;32m--> 589\u001b[0m resp \u001b[39m=\u001b[39m \u001b[39mself\u001b[39;49m\u001b[39m.\u001b[39;49msend(prep, \u001b[39m*\u001b[39;49m\u001b[39m*\u001b[39;49msend_kwargs)\n\u001b[0;32m    591\u001b[0m \u001b[39mreturn\u001b[39;00m resp\n",
      "File \u001b[1;32mc:\\Users\\raag7\\AppData\\Local\\Programs\\Python\\Python311\\Lib\\site-packages\\requests\\sessions.py:703\u001b[0m, in \u001b[0;36mSession.send\u001b[1;34m(self, request, **kwargs)\u001b[0m\n\u001b[0;32m    700\u001b[0m start \u001b[39m=\u001b[39m preferred_clock()\n\u001b[0;32m    702\u001b[0m \u001b[39m# Send the request\u001b[39;00m\n\u001b[1;32m--> 703\u001b[0m r \u001b[39m=\u001b[39m adapter\u001b[39m.\u001b[39;49msend(request, \u001b[39m*\u001b[39;49m\u001b[39m*\u001b[39;49mkwargs)\n\u001b[0;32m    705\u001b[0m \u001b[39m# Total elapsed time of the request (approximately)\u001b[39;00m\n\u001b[0;32m    706\u001b[0m elapsed \u001b[39m=\u001b[39m preferred_clock() \u001b[39m-\u001b[39m start\n",
      "File \u001b[1;32mc:\\Users\\raag7\\AppData\\Local\\Programs\\Python\\Python311\\Lib\\site-packages\\requests\\adapters.py:486\u001b[0m, in \u001b[0;36mHTTPAdapter.send\u001b[1;34m(self, request, stream, timeout, verify, cert, proxies)\u001b[0m\n\u001b[0;32m    483\u001b[0m     timeout \u001b[39m=\u001b[39m TimeoutSauce(connect\u001b[39m=\u001b[39mtimeout, read\u001b[39m=\u001b[39mtimeout)\n\u001b[0;32m    485\u001b[0m \u001b[39mtry\u001b[39;00m:\n\u001b[1;32m--> 486\u001b[0m     resp \u001b[39m=\u001b[39m conn\u001b[39m.\u001b[39;49murlopen(\n\u001b[0;32m    487\u001b[0m         method\u001b[39m=\u001b[39;49mrequest\u001b[39m.\u001b[39;49mmethod,\n\u001b[0;32m    488\u001b[0m         url\u001b[39m=\u001b[39;49murl,\n\u001b[0;32m    489\u001b[0m         body\u001b[39m=\u001b[39;49mrequest\u001b[39m.\u001b[39;49mbody,\n\u001b[0;32m    490\u001b[0m         headers\u001b[39m=\u001b[39;49mrequest\u001b[39m.\u001b[39;49mheaders,\n\u001b[0;32m    491\u001b[0m         redirect\u001b[39m=\u001b[39;49m\u001b[39mFalse\u001b[39;49;00m,\n\u001b[0;32m    492\u001b[0m         assert_same_host\u001b[39m=\u001b[39;49m\u001b[39mFalse\u001b[39;49;00m,\n\u001b[0;32m    493\u001b[0m         preload_content\u001b[39m=\u001b[39;49m\u001b[39mFalse\u001b[39;49;00m,\n\u001b[0;32m    494\u001b[0m         decode_content\u001b[39m=\u001b[39;49m\u001b[39mFalse\u001b[39;49;00m,\n\u001b[0;32m    495\u001b[0m         retries\u001b[39m=\u001b[39;49m\u001b[39mself\u001b[39;49m\u001b[39m.\u001b[39;49mmax_retries,\n\u001b[0;32m    496\u001b[0m         timeout\u001b[39m=\u001b[39;49mtimeout,\n\u001b[0;32m    497\u001b[0m         chunked\u001b[39m=\u001b[39;49mchunked,\n\u001b[0;32m    498\u001b[0m     )\n\u001b[0;32m    500\u001b[0m \u001b[39mexcept\u001b[39;00m (ProtocolError, \u001b[39mOSError\u001b[39;00m) \u001b[39mas\u001b[39;00m err:\n\u001b[0;32m    501\u001b[0m     \u001b[39mraise\u001b[39;00m \u001b[39mConnectionError\u001b[39;00m(err, request\u001b[39m=\u001b[39mrequest)\n",
      "File \u001b[1;32mc:\\Users\\raag7\\AppData\\Local\\Programs\\Python\\Python311\\Lib\\site-packages\\urllib3\\connectionpool.py:714\u001b[0m, in \u001b[0;36mHTTPConnectionPool.urlopen\u001b[1;34m(self, method, url, body, headers, retries, redirect, assert_same_host, timeout, pool_timeout, release_conn, chunked, body_pos, **response_kw)\u001b[0m\n\u001b[0;32m    711\u001b[0m     \u001b[39mself\u001b[39m\u001b[39m.\u001b[39m_prepare_proxy(conn)\n\u001b[0;32m    713\u001b[0m \u001b[39m# Make the request on the httplib connection object.\u001b[39;00m\n\u001b[1;32m--> 714\u001b[0m httplib_response \u001b[39m=\u001b[39m \u001b[39mself\u001b[39;49m\u001b[39m.\u001b[39;49m_make_request(\n\u001b[0;32m    715\u001b[0m     conn,\n\u001b[0;32m    716\u001b[0m     method,\n\u001b[0;32m    717\u001b[0m     url,\n\u001b[0;32m    718\u001b[0m     timeout\u001b[39m=\u001b[39;49mtimeout_obj,\n\u001b[0;32m    719\u001b[0m     body\u001b[39m=\u001b[39;49mbody,\n\u001b[0;32m    720\u001b[0m     headers\u001b[39m=\u001b[39;49mheaders,\n\u001b[0;32m    721\u001b[0m     chunked\u001b[39m=\u001b[39;49mchunked,\n\u001b[0;32m    722\u001b[0m )\n\u001b[0;32m    724\u001b[0m \u001b[39m# If we're going to release the connection in ``finally:``, then\u001b[39;00m\n\u001b[0;32m    725\u001b[0m \u001b[39m# the response doesn't need to know about the connection. Otherwise\u001b[39;00m\n\u001b[0;32m    726\u001b[0m \u001b[39m# it will also try to release it and we'll have a double-release\u001b[39;00m\n\u001b[0;32m    727\u001b[0m \u001b[39m# mess.\u001b[39;00m\n\u001b[0;32m    728\u001b[0m response_conn \u001b[39m=\u001b[39m conn \u001b[39mif\u001b[39;00m \u001b[39mnot\u001b[39;00m release_conn \u001b[39melse\u001b[39;00m \u001b[39mNone\u001b[39;00m\n",
      "File \u001b[1;32mc:\\Users\\raag7\\AppData\\Local\\Programs\\Python\\Python311\\Lib\\site-packages\\urllib3\\connectionpool.py:403\u001b[0m, in \u001b[0;36mHTTPConnectionPool._make_request\u001b[1;34m(self, conn, method, url, timeout, chunked, **httplib_request_kw)\u001b[0m\n\u001b[0;32m    401\u001b[0m \u001b[39m# Trigger any extra validation we need to do.\u001b[39;00m\n\u001b[0;32m    402\u001b[0m \u001b[39mtry\u001b[39;00m:\n\u001b[1;32m--> 403\u001b[0m     \u001b[39mself\u001b[39;49m\u001b[39m.\u001b[39;49m_validate_conn(conn)\n\u001b[0;32m    404\u001b[0m \u001b[39mexcept\u001b[39;00m (SocketTimeout, BaseSSLError) \u001b[39mas\u001b[39;00m e:\n\u001b[0;32m    405\u001b[0m     \u001b[39m# Py2 raises this as a BaseSSLError, Py3 raises it as socket timeout.\u001b[39;00m\n\u001b[0;32m    406\u001b[0m     \u001b[39mself\u001b[39m\u001b[39m.\u001b[39m_raise_timeout(err\u001b[39m=\u001b[39me, url\u001b[39m=\u001b[39murl, timeout_value\u001b[39m=\u001b[39mconn\u001b[39m.\u001b[39mtimeout)\n",
      "File \u001b[1;32mc:\\Users\\raag7\\AppData\\Local\\Programs\\Python\\Python311\\Lib\\site-packages\\urllib3\\connectionpool.py:1053\u001b[0m, in \u001b[0;36mHTTPSConnectionPool._validate_conn\u001b[1;34m(self, conn)\u001b[0m\n\u001b[0;32m   1051\u001b[0m \u001b[39m# Force connect early to allow us to validate the connection.\u001b[39;00m\n\u001b[0;32m   1052\u001b[0m \u001b[39mif\u001b[39;00m \u001b[39mnot\u001b[39;00m \u001b[39mgetattr\u001b[39m(conn, \u001b[39m\"\u001b[39m\u001b[39msock\u001b[39m\u001b[39m\"\u001b[39m, \u001b[39mNone\u001b[39;00m):  \u001b[39m# AppEngine might not have  `.sock`\u001b[39;00m\n\u001b[1;32m-> 1053\u001b[0m     conn\u001b[39m.\u001b[39;49mconnect()\n\u001b[0;32m   1055\u001b[0m \u001b[39mif\u001b[39;00m \u001b[39mnot\u001b[39;00m conn\u001b[39m.\u001b[39mis_verified:\n\u001b[0;32m   1056\u001b[0m     warnings\u001b[39m.\u001b[39mwarn(\n\u001b[0;32m   1057\u001b[0m         (\n\u001b[0;32m   1058\u001b[0m             \u001b[39m\"\u001b[39m\u001b[39mUnverified HTTPS request is being made to host \u001b[39m\u001b[39m'\u001b[39m\u001b[39m%s\u001b[39;00m\u001b[39m'\u001b[39m\u001b[39m. \u001b[39m\u001b[39m\"\u001b[39m\n\u001b[1;32m   (...)\u001b[0m\n\u001b[0;32m   1063\u001b[0m         InsecureRequestWarning,\n\u001b[0;32m   1064\u001b[0m     )\n",
      "File \u001b[1;32mc:\\Users\\raag7\\AppData\\Local\\Programs\\Python\\Python311\\Lib\\site-packages\\urllib3\\connection.py:363\u001b[0m, in \u001b[0;36mHTTPSConnection.connect\u001b[1;34m(self)\u001b[0m\n\u001b[0;32m    361\u001b[0m \u001b[39mdef\u001b[39;00m \u001b[39mconnect\u001b[39m(\u001b[39mself\u001b[39m):\n\u001b[0;32m    362\u001b[0m     \u001b[39m# Add certificate verification\u001b[39;00m\n\u001b[1;32m--> 363\u001b[0m     \u001b[39mself\u001b[39m\u001b[39m.\u001b[39msock \u001b[39m=\u001b[39m conn \u001b[39m=\u001b[39m \u001b[39mself\u001b[39;49m\u001b[39m.\u001b[39;49m_new_conn()\n\u001b[0;32m    364\u001b[0m     hostname \u001b[39m=\u001b[39m \u001b[39mself\u001b[39m\u001b[39m.\u001b[39mhost\n\u001b[0;32m    365\u001b[0m     tls_in_tls \u001b[39m=\u001b[39m \u001b[39mFalse\u001b[39;00m\n",
      "File \u001b[1;32mc:\\Users\\raag7\\AppData\\Local\\Programs\\Python\\Python311\\Lib\\site-packages\\urllib3\\connection.py:174\u001b[0m, in \u001b[0;36mHTTPConnection._new_conn\u001b[1;34m(self)\u001b[0m\n\u001b[0;32m    171\u001b[0m     extra_kw[\u001b[39m\"\u001b[39m\u001b[39msocket_options\u001b[39m\u001b[39m\"\u001b[39m] \u001b[39m=\u001b[39m \u001b[39mself\u001b[39m\u001b[39m.\u001b[39msocket_options\n\u001b[0;32m    173\u001b[0m \u001b[39mtry\u001b[39;00m:\n\u001b[1;32m--> 174\u001b[0m     conn \u001b[39m=\u001b[39m connection\u001b[39m.\u001b[39;49mcreate_connection(\n\u001b[0;32m    175\u001b[0m         (\u001b[39mself\u001b[39;49m\u001b[39m.\u001b[39;49m_dns_host, \u001b[39mself\u001b[39;49m\u001b[39m.\u001b[39;49mport), \u001b[39mself\u001b[39;49m\u001b[39m.\u001b[39;49mtimeout, \u001b[39m*\u001b[39;49m\u001b[39m*\u001b[39;49mextra_kw\n\u001b[0;32m    176\u001b[0m     )\n\u001b[0;32m    178\u001b[0m \u001b[39mexcept\u001b[39;00m SocketTimeout:\n\u001b[0;32m    179\u001b[0m     \u001b[39mraise\u001b[39;00m ConnectTimeoutError(\n\u001b[0;32m    180\u001b[0m         \u001b[39mself\u001b[39m,\n\u001b[0;32m    181\u001b[0m         \u001b[39m\"\u001b[39m\u001b[39mConnection to \u001b[39m\u001b[39m%s\u001b[39;00m\u001b[39m timed out. (connect timeout=\u001b[39m\u001b[39m%s\u001b[39;00m\u001b[39m)\u001b[39m\u001b[39m\"\u001b[39m\n\u001b[0;32m    182\u001b[0m         \u001b[39m%\u001b[39m (\u001b[39mself\u001b[39m\u001b[39m.\u001b[39mhost, \u001b[39mself\u001b[39m\u001b[39m.\u001b[39mtimeout),\n\u001b[0;32m    183\u001b[0m     )\n",
      "File \u001b[1;32mc:\\Users\\raag7\\AppData\\Local\\Programs\\Python\\Python311\\Lib\\site-packages\\urllib3\\util\\connection.py:85\u001b[0m, in \u001b[0;36mcreate_connection\u001b[1;34m(address, timeout, source_address, socket_options)\u001b[0m\n\u001b[0;32m     83\u001b[0m     \u001b[39mif\u001b[39;00m source_address:\n\u001b[0;32m     84\u001b[0m         sock\u001b[39m.\u001b[39mbind(source_address)\n\u001b[1;32m---> 85\u001b[0m     sock\u001b[39m.\u001b[39mconnect(sa)\n\u001b[0;32m     86\u001b[0m     \u001b[39mreturn\u001b[39;00m sock\n\u001b[0;32m     88\u001b[0m \u001b[39mexcept\u001b[39;00m socket\u001b[39m.\u001b[39merror \u001b[39mas\u001b[39;00m e:\n",
      "\u001b[1;31mKeyboardInterrupt\u001b[0m: "
     ]
    }
   ],
   "source": [
    "def fetch_details(doi, cache):\n",
    "    # If the details for the DOI are already in the cache\n",
    "    if doi in cache:\n",
    "        common_details = cache[doi]['common']\n",
    "        authors = cache[doi]['authors']\n",
    "    else:\n",
    "        url = f\"https://api.crossref.org/works/{doi}\"\n",
    "        try:\n",
    "            response = requests.get(url)\n",
    "            response.raise_for_status() \n",
    "            data = response.json()\n",
    "            message = data['message']\n",
    "\n",
    "            # Extract common details\n",
    "            title = message['title'][0] if 'title' in message else None\n",
    "            abstract = message.get('abstract', None)\n",
    "            journal = message.get('container-title', [None])[0]\n",
    "            field = message.get('subject', [None])[0]\n",
    "            citation_count = message.get('is-referenced-by-count', None)\n",
    "            date_received = message.get('created', {}).get('date-time', None)\n",
    "            date_published = message.get('published-online', {}).get('date-parts', [None])[0]\n",
    "            address = message.get('publisher-location', None)\n",
    "            language = message.get('language', None)\n",
    "\n",
    "            common_details = {\n",
    "                'DOI': doi,\n",
    "                'Title': title,\n",
    "                'Abstract': abstract,\n",
    "                'Journal': journal,\n",
    "                'Field': field,\n",
    "                'Citation Count': citation_count,\n",
    "                'Date Received': date_received,\n",
    "                'Date Published': date_published,\n",
    "                'Address': address,\n",
    "                'Language': language\n",
    "            }\n",
    "\n",
    "            authors = message.get('author', [])\n",
    "            cache[doi] = {'common': common_details, 'authors': authors}\n",
    "\n",
    "        except requests.RequestException as e:\n",
    "            print(f\"Error fetching DOI {doi}: {e}\")\n",
    "            return []\n",
    "        except (KeyError, IndexError) as e:\n",
    "            print(f\"Unexpected structure in response for DOI {doi}: {e}\")\n",
    "            return []\n",
    "\n",
    "    # Getting authors details\n",
    "    details_list = []\n",
    "    for idx, author in enumerate(authors):\n",
    "        author_first_name = author.get('given', None)\n",
    "        author_last_name = author.get('family', None)\n",
    "        author_order = idx + 1\n",
    "\n",
    "        details = common_details.copy()\n",
    "        details['Author First Name'] = author_first_name\n",
    "        details['Author Last Name'] = author_last_name\n",
    "        details['Author Order'] = author_order\n",
    "\n",
    "        details_list.append(details)\n",
    "\n",
    "    return details_list\n",
    "\n",
    "# Assuming you have the DataFrame named combined_df\n",
    "\n",
    "# Initialize a cache for storing details of already processed DOIs\n",
    "doi_cache = {}\n",
    "data_list = []\n",
    "\n",
    "for idx, row in tqdm(doi_df.iterrows(), total=len(doi_df), desc=\"Fetching details\"):\n",
    "    if pd.notna(row['DOI']):  \n",
    "        details = fetch_details(row['DOI'], doi_cache)\n",
    "        data_list.extend(details)  # Since details is now a list of dictionaries\n",
    "\n",
    "# Convert list of dictionaries to DataFrame\n",
    "new_data_df = pd.DataFrame(data_list)\n",
    "\n",
    "# Append new_data_df to full_df\n",
    "full_df = pd.concat([full_df, new_data_df], ignore_index=True)"
   ]
  },
  {
   "cell_type": "markdown",
   "metadata": {},
   "source": [
    "#### Cleaning"
   ]
  },
  {
   "cell_type": "code",
   "execution_count": null,
   "metadata": {},
   "outputs": [],
   "source": [
    "print(full_df['DOI'].nunique())\n",
    "print(full_df.shape[0])\n",
    "\n",
    "# Assuming your DataFrame is named 'full_df'\n",
    "subset_columns = ['DOI', 'Author First Name', 'Author Last Name']\n",
    "\n",
    "# Group by DOI and apply a function to remove duplicates within each group\n",
    "deduplicated_df = full_df.groupby('DOI', group_keys=False).apply(\n",
    "    lambda group: group.drop_duplicates(subset=subset_columns)\n",
    ")\n",
    "\n",
    "# Print the number of rows before and after deduplication\n",
    "print(f\"Number of rows before deduplication: {len(full_df)}\")\n",
    "print(f\"Number of rows after deduplication: {len(deduplicated_df)}\")"
   ]
  }
 ],
 "metadata": {
  "kernelspec": {
   "display_name": "Python 3",
   "language": "python",
   "name": "python3"
  },
  "language_info": {
   "codemirror_mode": {
    "name": "ipython",
    "version": 3
   },
   "file_extension": ".py",
   "mimetype": "text/x-python",
   "name": "python",
   "nbconvert_exporter": "python",
   "pygments_lexer": "ipython3",
   "version": "3.11.3"
  },
  "orig_nbformat": 4
 },
 "nbformat": 4,
 "nbformat_minor": 2
}
