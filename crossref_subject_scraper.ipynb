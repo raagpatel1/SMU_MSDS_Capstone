{
 "cells": [
  {
   "cell_type": "code",
   "execution_count": null,
   "metadata": {},
   "outputs": [],
   "source": [
    "import requests\n",
    "import pandas as pd\n",
    "\n",
    "# Step 1: Query Crossref for a broad set of results (you can refine this as needed)\n",
    "URL = \"https://api.crossref.org/works?rows=1000\"\n",
    "response = requests.get(URL)\n",
    "data = response.json()\n",
    "\n",
    "# Extract subjects from the returned works and add to a set for uniqueness\n",
    "subjects_set = set()\n",
    "for item in data['message']['items']:\n",
    "    if 'subject' in item:\n",
    "        subjects_set.update(item['subject'])\n",
    "\n",
    "# Convert the set to a list\n",
    "subjects_list = list(subjects_set)\n",
    "subjects_list"
   ]
  }
 ],
 "metadata": {
  "language_info": {
   "name": "python"
  },
  "orig_nbformat": 4
 },
 "nbformat": 4,
 "nbformat_minor": 2
}
